{
 "cells": [
  {
   "cell_type": "markdown",
   "metadata": {},
   "source": [
    "From the Hamiltonian, the FOC of $i$ is:"
   ]
  },
  {
   "cell_type": "code",
   "execution_count": 2,
   "metadata": {},
   "outputs": [
    {
     "data": {
      "text/latex": [
       "$\\displaystyle \\left(- \\xi i{\\left(t \\right)} + k^{\\epsilon}{\\left(t \\right)} q{\\left(t \\right)} - k^{\\epsilon}{\\left(t \\right)}\\right) k^{- \\epsilon}{\\left(t \\right)} e^{- r t} = 0$"
      ],
      "text/plain": [
       "Eq((-xi*i(t) + k(t)**epsilon*q(t) - k(t)**epsilon)*k(t)**(-epsilon)*exp(-r*t), 0)"
      ]
     },
     "execution_count": 2,
     "metadata": {},
     "output_type": "execute_result"
    }
   ],
   "source": [
    "from sympy import *\n",
    "from sympy.physics.vector import dynamicsymbols\n",
    "A, alpha, xi, epsilon, delta, r, phi, H, w, t, dq, dk, dt, ss, d = symbols('A, alpha, xi, epsilon, delta, r, phi, H, w, t, dq, dk, dt, ss, d')\n",
    "k, i, q, mu, y = dynamicsymbols('k, i, q, mu, y')\n",
    "phi = xi*i/2/k**epsilon\n",
    "y = A*k**alpha\n",
    "mu = E**(-1*r*t)*q\n",
    "H = E**(-1*r*t)*(y-w-i-phi*i)+E**(-1*r*t)*q*(i-delta*k)\n",
    "FOC_i = diff(H,i)\n",
    "relational.Eq(simplify(FOC_i),0)"
   ]
  },
  {
   "cell_type": "markdown",
   "metadata": {},
   "source": [
    "So that we have the expression for optimal $q$:"
   ]
  },
  {
   "cell_type": "code",
   "execution_count": 3,
   "metadata": {},
   "outputs": [
    {
     "data": {
      "text/latex": [
       "$\\displaystyle q{\\left(t \\right)} = \\xi i{\\left(t \\right)} k^{- \\epsilon}{\\left(t \\right)} + 1$"
      ],
      "text/plain": [
       "Eq(q(t), xi*i(t)*k(t)**(-epsilon) + 1)"
      ]
     },
     "execution_count": 3,
     "metadata": {},
     "output_type": "execute_result"
    }
   ],
   "source": [
    "q_opt = solve(FOC_i, q)[0]\n",
    "relational.Eq(q, simplify(q_opt))"
   ]
  },
  {
   "cell_type": "markdown",
   "metadata": {},
   "source": [
    "\n",
    "\\\n",
    "The FOC of $k$ is:"
   ]
  },
  {
   "cell_type": "code",
   "execution_count": 4,
   "metadata": {},
   "outputs": [
    {
     "data": {
      "text/latex": [
       "$\\displaystyle \\left(A \\alpha k^{\\alpha - 1}{\\left(t \\right)} - \\delta q{\\left(t \\right)} + \\frac{\\epsilon \\xi i^{2}{\\left(t \\right)} k^{- \\epsilon - 1}{\\left(t \\right)}}{2} - r q{\\left(t \\right)} + \\frac{d}{d t} q{\\left(t \\right)}\\right) e^{- r t} = 0$"
      ],
      "text/plain": [
       "Eq((A*alpha*k(t)**(alpha - 1) - delta*q(t) + epsilon*xi*i(t)**2*k(t)**(-epsilon - 1)/2 - r*q(t) + Derivative(q(t), t))*exp(-r*t), 0)"
      ]
     },
     "execution_count": 4,
     "metadata": {},
     "output_type": "execute_result"
    }
   ],
   "source": [
    "relational.Eq(simplify(diff(H,k)+diff(mu, Symbol('t'))), 0)"
   ]
  },
  {
   "cell_type": "markdown",
   "metadata": {},
   "source": [
    "So that we solve for $\\dot{q}$:"
   ]
  },
  {
   "cell_type": "code",
   "execution_count": 5,
   "metadata": {},
   "outputs": [
    {
     "data": {
      "text/latex": [
       "$\\displaystyle \\frac{d}{d t} q{\\left(t \\right)} = - A \\alpha k^{\\alpha - 1}{\\left(t \\right)} - \\frac{\\epsilon \\xi i^{2}{\\left(t \\right)} k^{- \\epsilon - 1}{\\left(t \\right)}}{2} + \\left(\\delta + r\\right) q{\\left(t \\right)}$"
      ],
      "text/plain": [
       "Eq(Derivative(q(t), t), -A*alpha*k(t)**(alpha - 1) - epsilon*xi*i(t)**2*k(t)**(-epsilon - 1)/2 + (delta + r)*q(t))"
      ]
     },
     "execution_count": 5,
     "metadata": {},
     "output_type": "execute_result"
    }
   ],
   "source": [
    "q_d = solve(diff(H,k)+diff(mu, Symbol('t')), diff(q, Symbol('t')))[0]\n",
    "relational.Eq(diff(q, Symbol('t')), collect(q_d,q))"
   ]
  },
  {
   "cell_type": "markdown",
   "metadata": {},
   "source": [
    "\\\n",
    "Then the Nullcline of k, $\\{\\dot{k}=0\\}$:"
   ]
  },
  {
   "cell_type": "code",
   "execution_count": 6,
   "metadata": {},
   "outputs": [
    {
     "data": {
      "text/latex": [
       "$\\displaystyle q{\\left(t \\right)} = \\delta \\xi k{\\left(t \\right)} k^{- \\epsilon}{\\left(t \\right)} + 1$"
      ],
      "text/plain": [
       "Eq(q(t), delta*xi*k(t)*k(t)**(-epsilon) + 1)"
      ]
     },
     "execution_count": 6,
     "metadata": {},
     "output_type": "execute_result"
    }
   ],
   "source": [
    "k_d = solve(q_opt-q, i)[0] - delta*k\n",
    "k_null_q = solve(k_d, q)[0]\n",
    "relational.Eq(q, k_null_q)"
   ]
  },
  {
   "cell_type": "code",
   "execution_count": 7,
   "metadata": {},
   "outputs": [
    {
     "data": {
      "text/latex": [
       "$\\displaystyle \\frac{dq}{dk} = \\delta \\xi \\left(1 - \\epsilon\\right) k^{- \\epsilon}{\\left(t \\right)}$"
      ],
      "text/plain": [
       "Eq(dq/dk, delta*xi*(1 - epsilon)*k(t)**(-epsilon))"
      ]
     },
     "execution_count": 7,
     "metadata": {},
     "output_type": "execute_result"
    }
   ],
   "source": [
    "relational.Eq(dq/dk, simplify(diff(k_null_q, k)))"
   ]
  },
  {
   "cell_type": "markdown",
   "metadata": {},
   "source": [
    "As $\\delta, \\xi, \\epsilon, k > 0$, when $\\epsilon>1$, $\\frac{dq}{dk}<0$, i.e. $\\{\\dot{k}=0\\}$ is downwards-sloping in $q$, $k$ space;\\\n",
    "when $1>\\epsilon>0$, $\\frac{dq}{dk}>0$, i.e. $\\{\\dot{k}=0\\}$ is upwards-sloping;\\\n",
    "when $\\epsilon = 1$, $\\frac{dq}{dk}=0$ which is the same case as in part (i) where $\\{\\dot{k}=0\\}$ is a horizontal line.\n",
    "\n",
    "\\\n",
    "Let $\\dot{q}=0$, we derive the Nullcline of $q$, $\\{\\dot{q}=0\\}$:"
   ]
  },
  {
   "cell_type": "code",
   "execution_count": 8,
   "metadata": {},
   "outputs": [
    {
     "data": {
      "text/latex": [
       "$\\displaystyle q{\\left(t \\right)} = \\frac{\\left(\\delta \\xi k{\\left(t \\right)} + \\epsilon k^{\\epsilon}{\\left(t \\right)} + r \\xi k{\\left(t \\right)} - \\sqrt{\\xi \\left(- 2 A \\alpha \\epsilon k^{\\alpha + \\epsilon}{\\left(t \\right)} + \\delta^{2} \\xi k^{2}{\\left(t \\right)} + 2 \\delta \\epsilon k^{\\epsilon + 1}{\\left(t \\right)} + 2 \\delta r \\xi k^{2}{\\left(t \\right)} + 2 \\epsilon r k^{\\epsilon + 1}{\\left(t \\right)} + r^{2} \\xi k^{2}{\\left(t \\right)}\\right)}\\right) k^{- \\epsilon}{\\left(t \\right)}}{\\epsilon}$"
      ],
      "text/plain": [
       "Eq(q(t), (delta*xi*k(t) + epsilon*k(t)**epsilon + r*xi*k(t) - sqrt(xi*(-2*A*alpha*epsilon*k(t)**(alpha + epsilon) + delta**2*xi*k(t)**2 + 2*delta*epsilon*k(t)**(epsilon + 1) + 2*delta*r*xi*k(t)**2 + 2*epsilon*r*k(t)**(epsilon + 1) + r**2*xi*k(t)**2)))*k(t)**(-epsilon)/epsilon)"
      ]
     },
     "execution_count": 8,
     "metadata": {},
     "output_type": "execute_result"
    }
   ],
   "source": [
    "i_opt = solve(q_opt-q, i)[0]\n",
    "relational.Eq(q, solve(q_d.subs(i, i_opt),q)[0])"
   ]
  },
  {
   "cell_type": "markdown",
   "metadata": {},
   "source": [
    "or just the implicit form:"
   ]
  },
  {
   "cell_type": "code",
   "execution_count": 9,
   "metadata": {},
   "outputs": [
    {
     "data": {
      "text/latex": [
       "$\\displaystyle - A \\alpha k^{\\alpha - 1}{\\left(t \\right)} - \\frac{\\epsilon \\left(q{\\left(t \\right)} - 1\\right)^{2} k^{2 \\epsilon}{\\left(t \\right)} k^{- \\epsilon - 1}{\\left(t \\right)}}{2 \\xi} + \\left(\\delta + r\\right) q{\\left(t \\right)} = 0$"
      ],
      "text/plain": [
       "Eq(-A*alpha*k(t)**(alpha - 1) - epsilon*(q(t) - 1)**2*k(t)**(2*epsilon)*k(t)**(-epsilon - 1)/(2*xi) + (delta + r)*q(t), 0)"
      ]
     },
     "execution_count": 9,
     "metadata": {},
     "output_type": "execute_result"
    }
   ],
   "source": [
    "q_null_0 = q_d.subs(i, i_opt)\n",
    "relational.Eq(collect(q_null_0, q), 0)"
   ]
  },
  {
   "cell_type": "code",
   "execution_count": 10,
   "metadata": {},
   "outputs": [
    {
     "data": {
      "text/latex": [
       "$\\displaystyle \\frac{dq}{dk} = \\frac{2 A \\alpha \\xi \\left(\\alpha - 1\\right) k^{\\alpha}{\\left(t \\right)} + \\epsilon \\left(\\epsilon - 1\\right) \\left(q{\\left(t \\right)} - 1\\right)^{2} k^{\\epsilon}{\\left(t \\right)}}{2 \\left(- \\epsilon \\left(q{\\left(t \\right)} - 1\\right) k^{\\epsilon - 1}{\\left(t \\right)} + \\xi \\left(\\delta + r\\right)\\right) k^{2}{\\left(t \\right)}}$"
      ],
      "text/plain": [
       "Eq(dq/dk, (2*A*alpha*xi*(alpha - 1)*k(t)**alpha + epsilon*(epsilon - 1)*(q(t) - 1)**2*k(t)**epsilon)/(2*(-epsilon*(q(t) - 1)*k(t)**(epsilon - 1) + xi*(delta + r))*k(t)**2))"
      ]
     },
     "execution_count": 10,
     "metadata": {},
     "output_type": "execute_result"
    }
   ],
   "source": [
    "relational.Eq(dq/dk, simplify(-diff(q_null_0,k)/diff(q_null_0,q)))"
   ]
  },
  {
   "cell_type": "markdown",
   "metadata": {},
   "source": [
    "We evaluate $\\frac{dq}{dk}$ around the Steady State. From the nullcline of $k$, we have $q^{ss}=\\delta\\xi (k^{ss})^{1-\\epsilon}+1$. We know that $k^{ss} > 0$ (since $k^{ss}=0$ will implies $q^{ss}=0$ from the nullcline of $q$ then $q^{ss}=0$ will further imply the Law of Motion of Capital Stock is slack under optimization, which should not be the case), then $q^{ss}=\\delta\\xi (k^{ss})^{1-\\epsilon}+1>1$.\n",
    "\n",
    "As we assume $0<\\alpha<1$:\\\n",
    "When $0<\\epsilon<1$, the denominator is negative. The sign only depends on $\\xi(\\delta+r)-\\epsilon(q-1)k^{\\epsilon-1}$ and we substitute $q^{ss}=\\delta\\xi (k^{ss})^{1-\\epsilon}+1$ inside: $$\\xi(\\delta+r)-\\epsilon[\\delta\\xi (k^{ss})^{1-\\epsilon}+1-1](k^{ss})^{\\epsilon-1}=\\xi[\\delta(1-\\epsilon)+r]>0$$ \n",
    "so that $\\frac{dq}{dk}|_{k^{ss},q^{ss}}<0$, $\\{\\dot{q}=0\\}$ downwards sloping.\n",
    "\n",
    "When $\\epsilon>1$, the sign of $\\frac{dq}{dk}|_{k^{ss},q^{ss}}$ is difficult to determine.\n",
    "\n",
    "So that we only consider the case when $0<\\epsilon<1$\n"
   ]
  },
  {
   "cell_type": "markdown",
   "metadata": {},
   "source": [
    "For the Steady State, we solve the systems of nullclines together:\n",
    "$$\\{\\dot{k}=0\\}\\; \\& \\; \\{\\dot{q}=0\\}$$"
   ]
  },
  {
   "cell_type": "code",
   "execution_count": 11,
   "metadata": {},
   "outputs": [
    {
     "data": {
      "text/latex": [
       "$\\displaystyle - \\frac{A \\alpha k^{\\alpha}{\\left(t \\right)}}{k{\\left(t \\right)}} - \\frac{\\delta^{2} \\epsilon \\xi k{\\left(t \\right)} k^{- \\epsilon}{\\left(t \\right)}}{2} + \\delta^{2} \\xi k{\\left(t \\right)} k^{- \\epsilon}{\\left(t \\right)} + \\delta r \\xi k{\\left(t \\right)} k^{- \\epsilon}{\\left(t \\right)} + \\delta + r = 0$"
      ],
      "text/plain": [
       "Eq(-A*alpha*k(t)**alpha/k(t) - delta**2*epsilon*xi*k(t)*k(t)**(-epsilon)/2 + delta**2*xi*k(t)*k(t)**(-epsilon) + delta*r*xi*k(t)*k(t)**(-epsilon) + delta + r, 0)"
      ]
     },
     "execution_count": 11,
     "metadata": {},
     "output_type": "execute_result"
    }
   ],
   "source": [
    "k_tilde = simplify(q_null_0.subs(q, k_null_q))\n",
    "relational.Eq(k_tilde,0)"
   ]
  },
  {
   "cell_type": "markdown",
   "metadata": {},
   "source": [
    "for which there is no analytical solution for $k^{ss}$. But substituting Similarly, for solving $q^{ss}$, there is no analytical solution as well."
   ]
  },
  {
   "cell_type": "code",
   "execution_count": 12,
   "metadata": {},
   "outputs": [
    {
     "data": {
      "text/latex": [
       "$\\displaystyle - A \\alpha \\left(\\left(\\frac{q{\\left(t \\right)} - 1}{\\delta \\xi}\\right)^{- \\frac{1}{\\epsilon - 1}}\\right)^{\\alpha - 1} + \\delta q{\\left(t \\right)} - \\frac{\\epsilon \\left(q{\\left(t \\right)} - 1\\right)^{2} \\left(\\left(\\frac{q{\\left(t \\right)} - 1}{\\delta \\xi}\\right)^{- \\frac{1}{\\epsilon - 1}}\\right)^{2 \\epsilon} \\left(\\left(\\frac{q{\\left(t \\right)} - 1}{\\delta \\xi}\\right)^{- \\frac{1}{\\epsilon - 1}}\\right)^{- \\epsilon - 1}}{2 \\xi} + r q{\\left(t \\right)} = 0$"
      ],
      "text/plain": [
       "Eq(-A*alpha*(((q(t) - 1)/(delta*xi))**(-1/(epsilon - 1)))**(alpha - 1) + delta*q(t) - epsilon*(q(t) - 1)**2*(((q(t) - 1)/(delta*xi))**(-1/(epsilon - 1)))**(2*epsilon)*(((q(t) - 1)/(delta*xi))**(-1/(epsilon - 1)))**(-epsilon - 1)/(2*xi) + r*q(t), 0)"
      ]
     },
     "execution_count": 12,
     "metadata": {},
     "output_type": "execute_result"
    }
   ],
   "source": [
    "k_ss = solve(k_null_q-q, k)[0]\n",
    "q_tilde = q_null_0.subs(k, k_ss)\n",
    "relational.Eq(q_tilde,0)"
   ]
  },
  {
   "cell_type": "markdown",
   "metadata": {},
   "source": [
    "To determine the change of $q^{ss}$ and $k^{ss}$ by the change of $\\delta$, we derive $\\frac{\\partial q^{ss}}{\\partial \\delta}$ and $\\frac{\\partial k^{ss}}{\\partial \\delta}$ by Implicit Function Theorem:"
   ]
  },
  {
   "cell_type": "code",
   "execution_count": 22,
   "metadata": {},
   "outputs": [
    {
     "data": {
      "text/latex": [
       "$\\displaystyle \\frac{dq^{ss}}{d \\delta} = \\frac{2 \\left(\\delta \\epsilon \\xi k{\\left(t \\right)} - 2 \\delta \\xi k{\\left(t \\right)} - r \\xi k{\\left(t \\right)} - k^{\\epsilon}{\\left(t \\right)}\\right) k^{2}{\\left(t \\right)}}{2 A \\alpha \\left(1 - \\alpha\\right) k^{\\alpha + \\epsilon}{\\left(t \\right)} + \\delta \\xi \\left(\\delta \\epsilon^{2} - 3 \\delta \\epsilon + 2 \\delta - 2 \\epsilon r + 2 r\\right) k^{2}{\\left(t \\right)}}$"
      ],
      "text/plain": [
       "Eq(dq**ss/(d*delta), 2*(delta*epsilon*xi*k(t) - 2*delta*xi*k(t) - r*xi*k(t) - k(t)**epsilon)*k(t)**2/(2*A*alpha*(1 - alpha)*k(t)**(alpha + epsilon) + delta*xi*(delta*epsilon**2 - 3*delta*epsilon + 2*delta - 2*epsilon*r + 2*r)*k(t)**2))"
      ]
     },
     "execution_count": 22,
     "metadata": {},
     "output_type": "execute_result"
    }
   ],
   "source": [
    "relational.Eq(dq**ss/(d*delta), simplify(-diff(k_tilde, delta)/diff(k_tilde, k)))"
   ]
  },
  {
   "cell_type": "code",
   "execution_count": 23,
   "metadata": {},
   "outputs": [
    {
     "data": {
      "text/latex": [
       "$\\displaystyle \\frac{dk^{ss}}{d \\delta} = \\frac{\\left(q{\\left(t \\right)} - 1\\right) \\left(2 A \\alpha \\xi \\left(\\alpha - 1\\right) \\left(\\left(\\frac{q{\\left(t \\right)} - 1}{\\delta \\xi}\\right)^{- \\frac{1}{\\epsilon - 1}}\\right)^{\\alpha - 1} - 2 \\delta \\xi \\left(\\epsilon - 1\\right) q{\\left(t \\right)} + \\epsilon \\left(\\epsilon - 1\\right) \\left(q{\\left(t \\right)} - 1\\right)^{2} \\left(\\left(\\frac{q{\\left(t \\right)} - 1}{\\delta \\xi}\\right)^{- \\frac{1}{\\epsilon - 1}}\\right)^{2 \\epsilon} \\left(\\left(\\frac{q{\\left(t \\right)} - 1}{\\delta \\xi}\\right)^{- \\frac{1}{\\epsilon - 1}}\\right)^{- \\epsilon - 1}\\right)}{\\delta \\left(2 A \\alpha \\xi \\left(\\alpha - 1\\right) \\left(\\left(\\frac{q{\\left(t \\right)} - 1}{\\delta \\xi}\\right)^{- \\frac{1}{\\epsilon - 1}}\\right)^{\\alpha - 1} - \\epsilon \\left(\\epsilon - 1\\right) \\left(q{\\left(t \\right)} - 1\\right)^{2} \\left(\\left(\\frac{q{\\left(t \\right)} - 1}{\\delta \\xi}\\right)^{- \\frac{1}{\\epsilon - 1}}\\right)^{2 \\epsilon} \\left(\\left(\\frac{q{\\left(t \\right)} - 1}{\\delta \\xi}\\right)^{- \\frac{1}{\\epsilon - 1}}\\right)^{- \\epsilon - 1} + 2 \\xi \\left(\\delta + r\\right) \\left(\\epsilon - 1\\right) \\left(q{\\left(t \\right)} - 1\\right)\\right)}$"
      ],
      "text/plain": [
       "Eq(dk**ss/(d*delta), (q(t) - 1)*(2*A*alpha*xi*(alpha - 1)*(((q(t) - 1)/(delta*xi))**(-1/(epsilon - 1)))**(alpha - 1) - 2*delta*xi*(epsilon - 1)*q(t) + epsilon*(epsilon - 1)*(q(t) - 1)**2*(((q(t) - 1)/(delta*xi))**(-1/(epsilon - 1)))**(2*epsilon)*(((q(t) - 1)/(delta*xi))**(-1/(epsilon - 1)))**(-epsilon - 1))/(delta*(2*A*alpha*xi*(alpha - 1)*(((q(t) - 1)/(delta*xi))**(-1/(epsilon - 1)))**(alpha - 1) - epsilon*(epsilon - 1)*(q(t) - 1)**2*(((q(t) - 1)/(delta*xi))**(-1/(epsilon - 1)))**(2*epsilon)*(((q(t) - 1)/(delta*xi))**(-1/(epsilon - 1)))**(-epsilon - 1) + 2*xi*(delta + r)*(epsilon - 1)*(q(t) - 1))))"
      ]
     },
     "execution_count": 23,
     "metadata": {},
     "output_type": "execute_result"
    }
   ],
   "source": [
    "relational.Eq(dk**ss/(d*delta), simplify(-diff(q_tilde, delta)/diff(q_tilde, q)))"
   ]
  },
  {
   "cell_type": "markdown",
   "metadata": {},
   "source": [
    "By solving $K^{ss}$ and $q^{ss}$ together, we still do noth ave the analytical solution."
   ]
  },
  {
   "cell_type": "code",
   "execution_count": 21,
   "metadata": {},
   "outputs": [],
   "source": [
    "# q_s = solve(q_d.subs(i, i_opt),q)[0]\n",
    "# k_s = solve(k_null_q-q, k)[0]\n",
    "# solve(q_s.subs(k, k_s)-q, q)[0]"
   ]
  }
 ],
 "metadata": {
  "kernelspec": {
   "display_name": "Python 3",
   "language": "python",
   "name": "python3"
  },
  "language_info": {
   "codemirror_mode": {
    "name": "ipython",
    "version": 3
   },
   "file_extension": ".py",
   "mimetype": "text/x-python",
   "name": "python",
   "nbconvert_exporter": "python",
   "pygments_lexer": "ipython3",
   "version": "3.6.6+"
  }
 },
 "nbformat": 4,
 "nbformat_minor": 4
}
