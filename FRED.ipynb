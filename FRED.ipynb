from fredapi import Fred
fred = Fred(api_key='insert api key here')
data = fred.get_series('SP500')
